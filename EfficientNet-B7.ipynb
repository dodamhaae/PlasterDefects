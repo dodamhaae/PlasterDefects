{
 "cells": [
  {
   "cell_type": "code",
   "execution_count": 1,
   "id": "9942f69e-b17c-4654-aefd-8439c22b49a7",
   "metadata": {
    "tags": []
   },
   "outputs": [
    {
     "name": "stderr",
     "output_type": "stream",
     "text": [
      "/root/jupyterlab/lib/python3.10/site-packages/tqdm/auto.py:22: TqdmWarning: IProgress not found. Please update jupyter and ipywidgets. See https://ipywidgets.readthedocs.io/en/stable/user_install.html\n",
      "  from .autonotebook import tqdm as notebook_tqdm\n"
     ]
    }
   ],
   "source": [
    "import random\n",
    "import pandas as pd\n",
    "import numpy as np\n",
    "import os\n",
    "import re\n",
    "import glob\n",
    "import cv2\n",
    "\n",
    "import torch\n",
    "import torch.nn as nn\n",
    "import torch.optim as optim\n",
    "import torch.nn.functional as F\n",
    "from torch.utils.data import Dataset, DataLoader, WeightedRandomSampler\n",
    "\n",
    "import albumentations as A\n",
    "from albumentations.pytorch.transforms import ToTensorV2\n",
    "import torchvision.models as models\n",
    "\n",
    "from sklearn.model_selection import train_test_split\n",
    "from sklearn import preprocessing\n",
    "from sklearn.metrics import f1_score\n",
    "from sklearn.metrics import classification_report\n",
    "from tqdm.auto import tqdm\n",
    "\n",
    "import warnings\n",
    "warnings.filterwarnings(action='ignore') "
   ]
  },
  {
   "cell_type": "code",
   "execution_count": 2,
   "id": "580739fd-004e-47a7-955b-6ae88fe94011",
   "metadata": {
    "tags": []
   },
   "outputs": [],
   "source": [
    "device = torch.device('cuda') if torch.cuda.is_available() else torch.device('cpu')"
   ]
  },
  {
   "cell_type": "code",
   "execution_count": 3,
   "id": "d1dae516-ba72-4431-a145-5d7684bb0e90",
   "metadata": {
    "tags": []
   },
   "outputs": [],
   "source": [
    "CFG = {\n",
    "    'IMG_SIZE':224,\n",
    "    'EPOCHS':100,\n",
    "    'LEARNING_RATE':3e-4,\n",
    "    'BATCH_SIZE':8,\n",
    "    'SEED':42\n",
    "}"
   ]
  },
  {
   "cell_type": "code",
   "execution_count": 4,
   "id": "e861f29d-84af-45f6-bcd4-1463988f2666",
   "metadata": {
    "tags": []
   },
   "outputs": [],
   "source": [
    "def seed_everything(seed):\n",
    "    random.seed(seed)\n",
    "    os.environ['PYTHONHASHSEED'] = str(seed)\n",
    "    np.random.seed(seed)\n",
    "    torch.manual_seed(seed)\n",
    "    torch.cuda.manual_seed(seed)\n",
    "    torch.backends.cudnn.deterministic = True\n",
    "    torch.backends.cudnn.benchmark = True\n",
    "\n",
    "seed_everything(CFG['SEED']) # Seed 고정"
   ]
  },
  {
   "cell_type": "code",
   "execution_count": 5,
   "id": "94206d9e-9984-462b-8a9f-cae76e0f6075",
   "metadata": {
    "tags": []
   },
   "outputs": [],
   "source": [
    "all_img_list = glob.glob('../data/PlasterDefects/train/*/*')"
   ]
  },
  {
   "cell_type": "code",
   "execution_count": 6,
   "id": "4fea5dde-690a-4467-a44f-3de8428a4ef7",
   "metadata": {
    "tags": []
   },
   "outputs": [],
   "source": [
    "df = pd.DataFrame(columns=['img_path', 'label'])\n",
    "df['img_path'] = all_img_list\n",
    "df['label'] = df['img_path'].apply(lambda x : str(x).split('/')[4])"
   ]
  },
  {
   "cell_type": "code",
   "execution_count": 7,
   "id": "e0401939-da6a-4d28-8c20-f5b842c37407",
   "metadata": {
    "tags": []
   },
   "outputs": [],
   "source": [
    "train, val, _, _ = train_test_split(df, df['label'], test_size=0.3, stratify=df['label'], random_state=CFG['SEED'])"
   ]
  },
  {
   "cell_type": "code",
   "execution_count": 8,
   "id": "cfb87bc0-753b-45a3-917b-679026569a96",
   "metadata": {
    "tags": []
   },
   "outputs": [],
   "source": [
    "le = preprocessing.LabelEncoder()\n",
    "train['label'] = le.fit_transform(train['label'])\n",
    "val['label'] = le.transform(val['label'])"
   ]
  },
  {
   "cell_type": "code",
   "execution_count": 9,
   "id": "3c9a611e-7d50-4357-829a-ad91f3035c58",
   "metadata": {
    "tags": []
   },
   "outputs": [],
   "source": [
    "class CustomDataset(Dataset):\n",
    "    def __init__(self, img_path_list, label_list, transforms=None):\n",
    "        self.img_path_list = img_path_list\n",
    "        self.label_list = label_list\n",
    "        self.transforms = transforms\n",
    "        \n",
    "    def __getitem__(self, index):\n",
    "        img_path = self.img_path_list[index]\n",
    "        \n",
    "        image = cv2.imread(img_path)\n",
    "        \n",
    "        if self.transforms is not None:\n",
    "            image = self.transforms(image=image)['image']\n",
    "        \n",
    "        if self.label_list is not None:\n",
    "            label = self.label_list[index]\n",
    "            return image, label\n",
    "        else:\n",
    "            return image\n",
    "        \n",
    "    def __len__(self):\n",
    "        return len(self.img_path_list)"
   ]
  },
  {
   "cell_type": "code",
   "execution_count": 10,
   "id": "6a250752-013d-4dcb-99a0-24188caed988",
   "metadata": {
    "tags": []
   },
   "outputs": [],
   "source": [
    "train_transform = A.Compose([\n",
    "                            A.Resize(CFG['IMG_SIZE'],CFG['IMG_SIZE']),\n",
    "                            A.Normalize(mean=(0.485, 0.456, 0.406), std=(0.229, 0.224, 0.225), max_pixel_value=255.0, always_apply=False, p=1.0),\n",
    "                            ToTensorV2()\n",
    "                            ])\n",
    "\n",
    "test_transform = A.Compose([\n",
    "                            A.Resize(CFG['IMG_SIZE'],CFG['IMG_SIZE']),\n",
    "                            A.Normalize(mean=(0.485, 0.456, 0.406), std=(0.229, 0.224, 0.225), max_pixel_value=255.0, always_apply=False, p=1.0),\n",
    "                            ToTensorV2()\n",
    "                            ])"
   ]
  },
  {
   "cell_type": "code",
   "execution_count": 11,
   "id": "5e8b3ba0-adda-4905-b2c9-cca3bd3f9d33",
   "metadata": {
    "tags": []
   },
   "outputs": [],
   "source": [
    "train_dataset = CustomDataset(train['img_path'].values, train['label'].values, train_transform)\n",
    "train_loader = DataLoader(train_dataset, batch_size = CFG['BATCH_SIZE'], shuffle=False, num_workers=0)\n",
    "\n",
    "val_dataset = CustomDataset(val['img_path'].values, val['label'].values, test_transform)\n",
    "val_loader = DataLoader(val_dataset, batch_size=CFG['BATCH_SIZE'], shuffle=False, num_workers=0)"
   ]
  },
  {
   "cell_type": "code",
   "execution_count": 12,
   "id": "756f2b61-8113-4b04-933a-7c3786fcd1c0",
   "metadata": {
    "tags": []
   },
   "outputs": [],
   "source": [
    "class BaseModel(nn.Module):\n",
    "    def __init__(self, num_classes=len(le.classes_)):\n",
    "        super(BaseModel, self).__init__()\n",
    "        self.backbone = models.efficientnet_b7(pretrained=True)\n",
    "        self.classifier = nn.Linear(1000, num_classes)\n",
    "        \n",
    "    def forward(self, x):\n",
    "        x = self.backbone(x)\n",
    "        x = self.classifier(x)\n",
    "        return x"
   ]
  },
  {
   "cell_type": "code",
   "execution_count": 13,
   "id": "1a712c16-e3b0-4d49-a510-8b8d2c8c8e90",
   "metadata": {
    "tags": []
   },
   "outputs": [],
   "source": [
    "def train(model, optimizer, train_loader, val_loader, scheduler, device):\n",
    "    model.to(device)\n",
    "    criterion = nn.CrossEntropyLoss().to(device)\n",
    "    \n",
    "    best_score = 0\n",
    "    best_model = None\n",
    "    \n",
    "    for epoch in range(1, CFG['EPOCHS']+1):\n",
    "        model.train()\n",
    "        train_loss = []\n",
    "        for imgs, labels in tqdm(iter(train_loader)):\n",
    "            imgs = imgs.float().to(device)\n",
    "            labels = labels.to(device)\n",
    "            \n",
    "            optimizer.zero_grad()\n",
    "            \n",
    "            output = model(imgs)\n",
    "            loss = criterion(output, labels)\n",
    "            \n",
    "            loss.backward()\n",
    "            optimizer.step()\n",
    "            \n",
    "            train_loss.append(loss.item())\n",
    "                    \n",
    "        _val_loss, _val_score = validation(model, criterion, val_loader, device)\n",
    "        _train_loss = np.mean(train_loss)\n",
    "        print(f'Epoch [{epoch}], Train Loss : [{_train_loss:.5f}] Val Loss : [{_val_loss:.5f}] Val Weighted F1 Score : [{_val_score:.5f}]')\n",
    "       \n",
    "        if scheduler is not None:\n",
    "            scheduler.step(_val_score)\n",
    "            \n",
    "        if best_score < _val_score:\n",
    "            best_score = _val_score\n",
    "            best_model = model\n",
    "    \n",
    "    return best_model"
   ]
  },
  {
   "cell_type": "code",
   "execution_count": 14,
   "id": "7f62ae5c-4c2c-4cef-a4f9-8708108b0b82",
   "metadata": {
    "tags": []
   },
   "outputs": [],
   "source": [
    "def validation(model, criterion, val_loader, device):\n",
    "    model.eval()\n",
    "    val_loss = []\n",
    "    preds, true_labels = [], []\n",
    "\n",
    "    with torch.no_grad():\n",
    "        for imgs, labels in tqdm(iter(val_loader)):\n",
    "            imgs = imgs.float().to(device)\n",
    "            labels = labels.to(device)\n",
    "            \n",
    "            pred = model(imgs)\n",
    "            \n",
    "            loss = criterion(pred, labels)\n",
    "            \n",
    "            preds += pred.argmax(1).detach().cpu().numpy().tolist()\n",
    "            true_labels += labels.detach().cpu().numpy().tolist()\n",
    "            \n",
    "            val_loss.append(loss.item())\n",
    "        \n",
    "        _val_loss = np.mean(val_loss)\n",
    "        _val_score = f1_score(true_labels, preds, average='weighted')\n",
    "    \n",
    "    return _val_loss, _val_score"
   ]
  },
  {
   "cell_type": "code",
   "execution_count": 15,
   "id": "57bf08cb-1a4d-41c0-aa4e-3d17933c42e0",
   "metadata": {
    "tags": []
   },
   "outputs": [
    {
     "name": "stderr",
     "output_type": "stream",
     "text": [
      "100%|███████████████████████████████████████████████████████| 303/303 [01:13<00:00,  4.15it/s]\n",
      "100%|███████████████████████████████████████████████████████| 130/130 [00:24<00:00,  5.23it/s]\n"
     ]
    },
    {
     "name": "stdout",
     "output_type": "stream",
     "text": [
      "Epoch [1], Train Loss : [1.42519] Val Loss : [0.90113] Val Weighted F1 Score : [0.67945]\n"
     ]
    },
    {
     "name": "stderr",
     "output_type": "stream",
     "text": [
      "100%|███████████████████████████████████████████████████████| 303/303 [01:10<00:00,  4.31it/s]\n",
      "100%|███████████████████████████████████████████████████████| 130/130 [00:25<00:00,  5.07it/s]\n"
     ]
    },
    {
     "name": "stdout",
     "output_type": "stream",
     "text": [
      "Epoch [2], Train Loss : [0.58285] Val Loss : [2.06177] Val Weighted F1 Score : [0.60365]\n"
     ]
    },
    {
     "name": "stderr",
     "output_type": "stream",
     "text": [
      "100%|███████████████████████████████████████████████████████| 303/303 [01:10<00:00,  4.30it/s]\n",
      "100%|███████████████████████████████████████████████████████| 130/130 [00:24<00:00,  5.24it/s]\n"
     ]
    },
    {
     "name": "stdout",
     "output_type": "stream",
     "text": [
      "Epoch [3], Train Loss : [0.41542] Val Loss : [1.18278] Val Weighted F1 Score : [0.70639]\n"
     ]
    },
    {
     "name": "stderr",
     "output_type": "stream",
     "text": [
      "100%|███████████████████████████████████████████████████████| 303/303 [01:10<00:00,  4.28it/s]\n",
      "100%|███████████████████████████████████████████████████████| 130/130 [00:25<00:00,  5.11it/s]\n"
     ]
    },
    {
     "name": "stdout",
     "output_type": "stream",
     "text": [
      "Epoch [4], Train Loss : [0.28697] Val Loss : [1.24229] Val Weighted F1 Score : [0.73662]\n"
     ]
    },
    {
     "name": "stderr",
     "output_type": "stream",
     "text": [
      "100%|███████████████████████████████████████████████████████| 303/303 [01:10<00:00,  4.32it/s]\n",
      "100%|███████████████████████████████████████████████████████| 130/130 [00:25<00:00,  5.09it/s]\n"
     ]
    },
    {
     "name": "stdout",
     "output_type": "stream",
     "text": [
      "Epoch [5], Train Loss : [0.21586] Val Loss : [1.17485] Val Weighted F1 Score : [0.75586]\n"
     ]
    },
    {
     "name": "stderr",
     "output_type": "stream",
     "text": [
      "100%|███████████████████████████████████████████████████████| 303/303 [01:11<00:00,  4.26it/s]\n",
      "100%|███████████████████████████████████████████████████████| 130/130 [00:26<00:00,  5.00it/s]\n"
     ]
    },
    {
     "name": "stdout",
     "output_type": "stream",
     "text": [
      "Epoch [6], Train Loss : [0.17242] Val Loss : [1.48659] Val Weighted F1 Score : [0.74672]\n"
     ]
    },
    {
     "name": "stderr",
     "output_type": "stream",
     "text": [
      "100%|███████████████████████████████████████████████████████| 303/303 [01:11<00:00,  4.24it/s]\n",
      "100%|███████████████████████████████████████████████████████| 130/130 [00:25<00:00,  5.11it/s]\n"
     ]
    },
    {
     "name": "stdout",
     "output_type": "stream",
     "text": [
      "Epoch [7], Train Loss : [0.17398] Val Loss : [1.67430] Val Weighted F1 Score : [0.70160]\n"
     ]
    },
    {
     "name": "stderr",
     "output_type": "stream",
     "text": [
      "100%|███████████████████████████████████████████████████████| 303/303 [01:09<00:00,  4.33it/s]\n",
      "100%|███████████████████████████████████████████████████████| 130/130 [00:25<00:00,  5.19it/s]\n"
     ]
    },
    {
     "name": "stdout",
     "output_type": "stream",
     "text": [
      "Epoch [8], Train Loss : [0.19210] Val Loss : [1.59796] Val Weighted F1 Score : [0.74814]\n",
      "Epoch 00008: reducing learning rate of group 0 to 1.5000e-04.\n"
     ]
    },
    {
     "name": "stderr",
     "output_type": "stream",
     "text": [
      "100%|███████████████████████████████████████████████████████| 303/303 [01:10<00:00,  4.29it/s]\n",
      "100%|███████████████████████████████████████████████████████| 130/130 [00:24<00:00,  5.25it/s]\n"
     ]
    },
    {
     "name": "stdout",
     "output_type": "stream",
     "text": [
      "Epoch [9], Train Loss : [0.08121] Val Loss : [1.29818] Val Weighted F1 Score : [0.76551]\n"
     ]
    },
    {
     "name": "stderr",
     "output_type": "stream",
     "text": [
      "100%|███████████████████████████████████████████████████████| 303/303 [01:10<00:00,  4.27it/s]\n",
      "100%|███████████████████████████████████████████████████████| 130/130 [00:24<00:00,  5.26it/s]\n"
     ]
    },
    {
     "name": "stdout",
     "output_type": "stream",
     "text": [
      "Epoch [10], Train Loss : [0.01585] Val Loss : [1.28540] Val Weighted F1 Score : [0.77397]\n"
     ]
    },
    {
     "name": "stderr",
     "output_type": "stream",
     "text": [
      "100%|███████████████████████████████████████████████████████| 303/303 [01:10<00:00,  4.27it/s]\n",
      "100%|███████████████████████████████████████████████████████| 130/130 [00:26<00:00,  4.98it/s]\n"
     ]
    },
    {
     "name": "stdout",
     "output_type": "stream",
     "text": [
      "Epoch [11], Train Loss : [0.00662] Val Loss : [1.30053] Val Weighted F1 Score : [0.78435]\n"
     ]
    },
    {
     "name": "stderr",
     "output_type": "stream",
     "text": [
      "100%|███████████████████████████████████████████████████████| 303/303 [01:09<00:00,  4.33it/s]\n",
      "100%|███████████████████████████████████████████████████████| 130/130 [00:25<00:00,  5.09it/s]\n"
     ]
    },
    {
     "name": "stdout",
     "output_type": "stream",
     "text": [
      "Epoch [12], Train Loss : [0.00385] Val Loss : [1.36318] Val Weighted F1 Score : [0.78716]\n"
     ]
    },
    {
     "name": "stderr",
     "output_type": "stream",
     "text": [
      "100%|███████████████████████████████████████████████████████| 303/303 [01:11<00:00,  4.22it/s]\n",
      "100%|███████████████████████████████████████████████████████| 130/130 [00:26<00:00,  4.97it/s]\n"
     ]
    },
    {
     "name": "stdout",
     "output_type": "stream",
     "text": [
      "Epoch [13], Train Loss : [0.00195] Val Loss : [1.43299] Val Weighted F1 Score : [0.78745]\n"
     ]
    },
    {
     "name": "stderr",
     "output_type": "stream",
     "text": [
      "100%|███████████████████████████████████████████████████████| 303/303 [01:10<00:00,  4.33it/s]\n",
      "100%|███████████████████████████████████████████████████████| 130/130 [00:25<00:00,  5.19it/s]\n"
     ]
    },
    {
     "name": "stdout",
     "output_type": "stream",
     "text": [
      "Epoch [14], Train Loss : [0.00266] Val Loss : [1.43392] Val Weighted F1 Score : [0.78312]\n"
     ]
    },
    {
     "name": "stderr",
     "output_type": "stream",
     "text": [
      "100%|███████████████████████████████████████████████████████| 303/303 [01:10<00:00,  4.31it/s]\n",
      "100%|███████████████████████████████████████████████████████| 130/130 [00:25<00:00,  5.10it/s]\n"
     ]
    },
    {
     "name": "stdout",
     "output_type": "stream",
     "text": [
      "Epoch [15], Train Loss : [0.00304] Val Loss : [1.51600] Val Weighted F1 Score : [0.77599]\n"
     ]
    },
    {
     "name": "stderr",
     "output_type": "stream",
     "text": [
      "100%|███████████████████████████████████████████████████████| 303/303 [01:10<00:00,  4.31it/s]\n",
      "100%|███████████████████████████████████████████████████████| 130/130 [00:25<00:00,  5.12it/s]\n"
     ]
    },
    {
     "name": "stdout",
     "output_type": "stream",
     "text": [
      "Epoch [16], Train Loss : [0.03444] Val Loss : [1.81430] Val Weighted F1 Score : [0.73815]\n",
      "Epoch 00016: reducing learning rate of group 0 to 7.5000e-05.\n"
     ]
    },
    {
     "name": "stderr",
     "output_type": "stream",
     "text": [
      "100%|███████████████████████████████████████████████████████| 303/303 [01:10<00:00,  4.30it/s]\n",
      "100%|███████████████████████████████████████████████████████| 130/130 [00:24<00:00,  5.22it/s]\n"
     ]
    },
    {
     "name": "stdout",
     "output_type": "stream",
     "text": [
      "Epoch [17], Train Loss : [0.02713] Val Loss : [1.54461] Val Weighted F1 Score : [0.78321]\n"
     ]
    },
    {
     "name": "stderr",
     "output_type": "stream",
     "text": [
      "100%|███████████████████████████████████████████████████████| 303/303 [01:11<00:00,  4.23it/s]\n",
      "100%|███████████████████████████████████████████████████████| 130/130 [00:24<00:00,  5.25it/s]\n"
     ]
    },
    {
     "name": "stdout",
     "output_type": "stream",
     "text": [
      "Epoch [18], Train Loss : [0.01059] Val Loss : [1.56833] Val Weighted F1 Score : [0.78441]\n"
     ]
    },
    {
     "name": "stderr",
     "output_type": "stream",
     "text": [
      "100%|███████████████████████████████████████████████████████| 303/303 [01:10<00:00,  4.31it/s]\n",
      "100%|███████████████████████████████████████████████████████| 130/130 [00:25<00:00,  5.16it/s]\n"
     ]
    },
    {
     "name": "stdout",
     "output_type": "stream",
     "text": [
      "Epoch [19], Train Loss : [0.00373] Val Loss : [1.64674] Val Weighted F1 Score : [0.78432]\n",
      "Epoch 00019: reducing learning rate of group 0 to 3.7500e-05.\n"
     ]
    },
    {
     "name": "stderr",
     "output_type": "stream",
     "text": [
      "100%|███████████████████████████████████████████████████████| 303/303 [01:10<00:00,  4.30it/s]\n",
      "100%|███████████████████████████████████████████████████████| 130/130 [00:25<00:00,  5.08it/s]\n"
     ]
    },
    {
     "name": "stdout",
     "output_type": "stream",
     "text": [
      "Epoch [20], Train Loss : [0.00344] Val Loss : [1.67616] Val Weighted F1 Score : [0.77953]\n"
     ]
    },
    {
     "name": "stderr",
     "output_type": "stream",
     "text": [
      "100%|███████████████████████████████████████████████████████| 303/303 [01:11<00:00,  4.23it/s]\n",
      "100%|███████████████████████████████████████████████████████| 130/130 [00:25<00:00,  5.11it/s]\n"
     ]
    },
    {
     "name": "stdout",
     "output_type": "stream",
     "text": [
      "Epoch [21], Train Loss : [0.00303] Val Loss : [1.67887] Val Weighted F1 Score : [0.77827]\n"
     ]
    },
    {
     "name": "stderr",
     "output_type": "stream",
     "text": [
      "100%|███████████████████████████████████████████████████████| 303/303 [01:10<00:00,  4.27it/s]\n",
      "100%|███████████████████████████████████████████████████████| 130/130 [00:26<00:00,  4.95it/s]\n"
     ]
    },
    {
     "name": "stdout",
     "output_type": "stream",
     "text": [
      "Epoch [22], Train Loss : [0.00064] Val Loss : [1.67493] Val Weighted F1 Score : [0.78019]\n",
      "Epoch 00022: reducing learning rate of group 0 to 1.8750e-05.\n"
     ]
    },
    {
     "name": "stderr",
     "output_type": "stream",
     "text": [
      "100%|███████████████████████████████████████████████████████| 303/303 [01:10<00:00,  4.28it/s]\n",
      "100%|███████████████████████████████████████████████████████| 130/130 [00:24<00:00,  5.21it/s]\n"
     ]
    },
    {
     "name": "stdout",
     "output_type": "stream",
     "text": [
      "Epoch [23], Train Loss : [0.00053] Val Loss : [1.68413] Val Weighted F1 Score : [0.78348]\n"
     ]
    },
    {
     "name": "stderr",
     "output_type": "stream",
     "text": [
      "100%|███████████████████████████████████████████████████████| 303/303 [01:10<00:00,  4.27it/s]\n",
      "100%|███████████████████████████████████████████████████████| 130/130 [00:25<00:00,  5.03it/s]\n"
     ]
    },
    {
     "name": "stdout",
     "output_type": "stream",
     "text": [
      "Epoch [24], Train Loss : [0.00054] Val Loss : [1.68444] Val Weighted F1 Score : [0.78023]\n"
     ]
    },
    {
     "name": "stderr",
     "output_type": "stream",
     "text": [
      "100%|███████████████████████████████████████████████████████| 303/303 [01:12<00:00,  4.21it/s]\n",
      "100%|███████████████████████████████████████████████████████| 130/130 [00:25<00:00,  5.05it/s]\n"
     ]
    },
    {
     "name": "stdout",
     "output_type": "stream",
     "text": [
      "Epoch [25], Train Loss : [0.00063] Val Loss : [1.69971] Val Weighted F1 Score : [0.78376]\n",
      "Epoch 00025: reducing learning rate of group 0 to 9.3750e-06.\n"
     ]
    },
    {
     "name": "stderr",
     "output_type": "stream",
     "text": [
      "100%|███████████████████████████████████████████████████████| 303/303 [01:11<00:00,  4.24it/s]\n",
      "100%|███████████████████████████████████████████████████████| 130/130 [00:25<00:00,  5.18it/s]\n"
     ]
    },
    {
     "name": "stdout",
     "output_type": "stream",
     "text": [
      "Epoch [26], Train Loss : [0.00022] Val Loss : [1.70036] Val Weighted F1 Score : [0.78500]\n"
     ]
    },
    {
     "name": "stderr",
     "output_type": "stream",
     "text": [
      "100%|███████████████████████████████████████████████████████| 303/303 [01:10<00:00,  4.31it/s]\n",
      "100%|███████████████████████████████████████████████████████| 130/130 [00:25<00:00,  5.11it/s]\n"
     ]
    },
    {
     "name": "stdout",
     "output_type": "stream",
     "text": [
      "Epoch [27], Train Loss : [0.00095] Val Loss : [1.71397] Val Weighted F1 Score : [0.78190]\n"
     ]
    },
    {
     "name": "stderr",
     "output_type": "stream",
     "text": [
      "100%|███████████████████████████████████████████████████████| 303/303 [01:11<00:00,  4.21it/s]\n",
      "100%|███████████████████████████████████████████████████████| 130/130 [00:25<00:00,  5.05it/s]\n"
     ]
    },
    {
     "name": "stdout",
     "output_type": "stream",
     "text": [
      "Epoch [28], Train Loss : [0.00024] Val Loss : [1.70362] Val Weighted F1 Score : [0.78351]\n",
      "Epoch 00028: reducing learning rate of group 0 to 4.6875e-06.\n"
     ]
    },
    {
     "name": "stderr",
     "output_type": "stream",
     "text": [
      "100%|███████████████████████████████████████████████████████| 303/303 [01:11<00:00,  4.23it/s]\n",
      "100%|███████████████████████████████████████████████████████| 130/130 [00:25<00:00,  5.04it/s]\n"
     ]
    },
    {
     "name": "stdout",
     "output_type": "stream",
     "text": [
      "Epoch [29], Train Loss : [0.00022] Val Loss : [1.71549] Val Weighted F1 Score : [0.78024]\n"
     ]
    },
    {
     "name": "stderr",
     "output_type": "stream",
     "text": [
      "100%|███████████████████████████████████████████████████████| 303/303 [01:10<00:00,  4.27it/s]\n",
      "100%|███████████████████████████████████████████████████████| 130/130 [00:25<00:00,  5.19it/s]\n"
     ]
    },
    {
     "name": "stdout",
     "output_type": "stream",
     "text": [
      "Epoch [30], Train Loss : [0.00025] Val Loss : [1.71595] Val Weighted F1 Score : [0.78264]\n"
     ]
    },
    {
     "name": "stderr",
     "output_type": "stream",
     "text": [
      "100%|███████████████████████████████████████████████████████| 303/303 [01:10<00:00,  4.29it/s]\n",
      "100%|███████████████████████████████████████████████████████| 130/130 [00:25<00:00,  5.15it/s]\n"
     ]
    },
    {
     "name": "stdout",
     "output_type": "stream",
     "text": [
      "Epoch [31], Train Loss : [0.00067] Val Loss : [1.71213] Val Weighted F1 Score : [0.77812]\n",
      "Epoch 00031: reducing learning rate of group 0 to 2.3437e-06.\n"
     ]
    },
    {
     "name": "stderr",
     "output_type": "stream",
     "text": [
      "100%|███████████████████████████████████████████████████████| 303/303 [01:10<00:00,  4.28it/s]\n",
      "100%|███████████████████████████████████████████████████████| 130/130 [00:25<00:00,  5.08it/s]\n"
     ]
    },
    {
     "name": "stdout",
     "output_type": "stream",
     "text": [
      "Epoch [32], Train Loss : [0.00019] Val Loss : [1.70979] Val Weighted F1 Score : [0.77838]\n"
     ]
    },
    {
     "name": "stderr",
     "output_type": "stream",
     "text": [
      "100%|███████████████████████████████████████████████████████| 303/303 [01:11<00:00,  4.21it/s]\n",
      "100%|███████████████████████████████████████████████████████| 130/130 [00:26<00:00,  4.97it/s]\n"
     ]
    },
    {
     "name": "stdout",
     "output_type": "stream",
     "text": [
      "Epoch [33], Train Loss : [0.00015] Val Loss : [1.72630] Val Weighted F1 Score : [0.78051]\n"
     ]
    },
    {
     "name": "stderr",
     "output_type": "stream",
     "text": [
      "100%|███████████████████████████████████████████████████████| 303/303 [01:12<00:00,  4.20it/s]\n",
      "100%|███████████████████████████████████████████████████████| 130/130 [00:26<00:00,  4.97it/s]\n"
     ]
    },
    {
     "name": "stdout",
     "output_type": "stream",
     "text": [
      "Epoch [34], Train Loss : [0.00015] Val Loss : [1.71444] Val Weighted F1 Score : [0.77989]\n",
      "Epoch 00034: reducing learning rate of group 0 to 1.1719e-06.\n"
     ]
    },
    {
     "name": "stderr",
     "output_type": "stream",
     "text": [
      "100%|███████████████████████████████████████████████████████| 303/303 [01:10<00:00,  4.28it/s]\n",
      "100%|███████████████████████████████████████████████████████| 130/130 [00:26<00:00,  4.98it/s]\n"
     ]
    },
    {
     "name": "stdout",
     "output_type": "stream",
     "text": [
      "Epoch [35], Train Loss : [0.00016] Val Loss : [1.71729] Val Weighted F1 Score : [0.77928]\n"
     ]
    },
    {
     "name": "stderr",
     "output_type": "stream",
     "text": [
      "100%|███████████████████████████████████████████████████████| 303/303 [01:10<00:00,  4.27it/s]\n",
      "100%|███████████████████████████████████████████████████████| 130/130 [00:25<00:00,  5.10it/s]\n"
     ]
    },
    {
     "name": "stdout",
     "output_type": "stream",
     "text": [
      "Epoch [36], Train Loss : [0.00013] Val Loss : [1.71837] Val Weighted F1 Score : [0.78048]\n"
     ]
    },
    {
     "name": "stderr",
     "output_type": "stream",
     "text": [
      "100%|███████████████████████████████████████████████████████| 303/303 [01:11<00:00,  4.24it/s]\n",
      "100%|███████████████████████████████████████████████████████| 130/130 [00:25<00:00,  5.16it/s]\n"
     ]
    },
    {
     "name": "stdout",
     "output_type": "stream",
     "text": [
      "Epoch [37], Train Loss : [0.00015] Val Loss : [1.71772] Val Weighted F1 Score : [0.77957]\n",
      "Epoch 00037: reducing learning rate of group 0 to 5.8594e-07.\n"
     ]
    },
    {
     "name": "stderr",
     "output_type": "stream",
     "text": [
      "100%|███████████████████████████████████████████████████████| 303/303 [01:10<00:00,  4.30it/s]\n",
      "100%|███████████████████████████████████████████████████████| 130/130 [00:25<00:00,  5.09it/s]\n"
     ]
    },
    {
     "name": "stdout",
     "output_type": "stream",
     "text": [
      "Epoch [38], Train Loss : [0.00019] Val Loss : [1.72238] Val Weighted F1 Score : [0.77917]\n"
     ]
    },
    {
     "name": "stderr",
     "output_type": "stream",
     "text": [
      "100%|███████████████████████████████████████████████████████| 303/303 [01:11<00:00,  4.25it/s]\n",
      "100%|███████████████████████████████████████████████████████| 130/130 [00:25<00:00,  5.06it/s]\n"
     ]
    },
    {
     "name": "stdout",
     "output_type": "stream",
     "text": [
      "Epoch [39], Train Loss : [0.00014] Val Loss : [1.71859] Val Weighted F1 Score : [0.77920]\n"
     ]
    },
    {
     "name": "stderr",
     "output_type": "stream",
     "text": [
      "100%|███████████████████████████████████████████████████████| 303/303 [01:11<00:00,  4.21it/s]\n",
      "100%|███████████████████████████████████████████████████████| 130/130 [00:25<00:00,  5.11it/s]\n"
     ]
    },
    {
     "name": "stdout",
     "output_type": "stream",
     "text": [
      "Epoch [40], Train Loss : [0.00013] Val Loss : [1.72361] Val Weighted F1 Score : [0.78004]\n",
      "Epoch 00040: reducing learning rate of group 0 to 2.9297e-07.\n"
     ]
    },
    {
     "name": "stderr",
     "output_type": "stream",
     "text": [
      "100%|███████████████████████████████████████████████████████| 303/303 [01:10<00:00,  4.28it/s]\n",
      "100%|███████████████████████████████████████████████████████| 130/130 [00:24<00:00,  5.23it/s]\n"
     ]
    },
    {
     "name": "stdout",
     "output_type": "stream",
     "text": [
      "Epoch [41], Train Loss : [0.00017] Val Loss : [1.72146] Val Weighted F1 Score : [0.78003]\n"
     ]
    },
    {
     "name": "stderr",
     "output_type": "stream",
     "text": [
      "100%|███████████████████████████████████████████████████████| 303/303 [01:11<00:00,  4.25it/s]\n",
      "100%|███████████████████████████████████████████████████████| 130/130 [00:25<00:00,  5.03it/s]\n"
     ]
    },
    {
     "name": "stdout",
     "output_type": "stream",
     "text": [
      "Epoch [42], Train Loss : [0.00025] Val Loss : [1.71930] Val Weighted F1 Score : [0.77910]\n"
     ]
    },
    {
     "name": "stderr",
     "output_type": "stream",
     "text": [
      "100%|███████████████████████████████████████████████████████| 303/303 [01:11<00:00,  4.22it/s]\n",
      "100%|███████████████████████████████████████████████████████| 130/130 [00:26<00:00,  5.00it/s]\n"
     ]
    },
    {
     "name": "stdout",
     "output_type": "stream",
     "text": [
      "Epoch [43], Train Loss : [0.00024] Val Loss : [1.72236] Val Weighted F1 Score : [0.77826]\n",
      "Epoch 00043: reducing learning rate of group 0 to 1.4648e-07.\n"
     ]
    },
    {
     "name": "stderr",
     "output_type": "stream",
     "text": [
      "100%|███████████████████████████████████████████████████████| 303/303 [01:11<00:00,  4.25it/s]\n",
      "100%|███████████████████████████████████████████████████████| 130/130 [00:25<00:00,  5.08it/s]\n"
     ]
    },
    {
     "name": "stdout",
     "output_type": "stream",
     "text": [
      "Epoch [44], Train Loss : [0.00016] Val Loss : [1.72404] Val Weighted F1 Score : [0.77826]\n"
     ]
    },
    {
     "name": "stderr",
     "output_type": "stream",
     "text": [
      "100%|███████████████████████████████████████████████████████| 303/303 [01:11<00:00,  4.26it/s]\n",
      "100%|███████████████████████████████████████████████████████| 130/130 [00:25<00:00,  5.02it/s]\n"
     ]
    },
    {
     "name": "stdout",
     "output_type": "stream",
     "text": [
      "Epoch [45], Train Loss : [0.00015] Val Loss : [1.72024] Val Weighted F1 Score : [0.77826]\n"
     ]
    },
    {
     "name": "stderr",
     "output_type": "stream",
     "text": [
      "100%|███████████████████████████████████████████████████████| 303/303 [01:10<00:00,  4.27it/s]\n",
      "100%|███████████████████████████████████████████████████████| 130/130 [00:25<00:00,  5.08it/s]\n"
     ]
    },
    {
     "name": "stdout",
     "output_type": "stream",
     "text": [
      "Epoch [46], Train Loss : [0.00017] Val Loss : [1.73000] Val Weighted F1 Score : [0.77826]\n",
      "Epoch 00046: reducing learning rate of group 0 to 7.3242e-08.\n"
     ]
    },
    {
     "name": "stderr",
     "output_type": "stream",
     "text": [
      "100%|███████████████████████████████████████████████████████| 303/303 [01:11<00:00,  4.25it/s]\n",
      "100%|███████████████████████████████████████████████████████| 130/130 [00:25<00:00,  5.06it/s]\n"
     ]
    },
    {
     "name": "stdout",
     "output_type": "stream",
     "text": [
      "Epoch [47], Train Loss : [0.00022] Val Loss : [1.72690] Val Weighted F1 Score : [0.77805]\n"
     ]
    },
    {
     "name": "stderr",
     "output_type": "stream",
     "text": [
      "100%|███████████████████████████████████████████████████████| 303/303 [01:12<00:00,  4.19it/s]\n",
      "100%|███████████████████████████████████████████████████████| 130/130 [00:25<00:00,  5.14it/s]\n"
     ]
    },
    {
     "name": "stdout",
     "output_type": "stream",
     "text": [
      "Epoch [48], Train Loss : [0.00015] Val Loss : [1.72695] Val Weighted F1 Score : [0.77732]\n"
     ]
    },
    {
     "name": "stderr",
     "output_type": "stream",
     "text": [
      "100%|███████████████████████████████████████████████████████| 303/303 [01:11<00:00,  4.25it/s]\n",
      "100%|███████████████████████████████████████████████████████| 130/130 [00:25<00:00,  5.07it/s]\n"
     ]
    },
    {
     "name": "stdout",
     "output_type": "stream",
     "text": [
      "Epoch [49], Train Loss : [0.00012] Val Loss : [1.72514] Val Weighted F1 Score : [0.77891]\n",
      "Epoch 00049: reducing learning rate of group 0 to 3.6621e-08.\n"
     ]
    },
    {
     "name": "stderr",
     "output_type": "stream",
     "text": [
      "100%|███████████████████████████████████████████████████████| 303/303 [01:11<00:00,  4.25it/s]\n",
      "100%|███████████████████████████████████████████████████████| 130/130 [00:24<00:00,  5.21it/s]\n"
     ]
    },
    {
     "name": "stdout",
     "output_type": "stream",
     "text": [
      "Epoch [50], Train Loss : [0.00013] Val Loss : [1.72246] Val Weighted F1 Score : [0.77732]\n"
     ]
    },
    {
     "name": "stderr",
     "output_type": "stream",
     "text": [
      "100%|███████████████████████████████████████████████████████| 303/303 [01:12<00:00,  4.18it/s]\n",
      "100%|███████████████████████████████████████████████████████| 130/130 [00:26<00:00,  4.99it/s]\n"
     ]
    },
    {
     "name": "stdout",
     "output_type": "stream",
     "text": [
      "Epoch [51], Train Loss : [0.00023] Val Loss : [1.73043] Val Weighted F1 Score : [0.77826]\n"
     ]
    },
    {
     "name": "stderr",
     "output_type": "stream",
     "text": [
      "100%|███████████████████████████████████████████████████████| 303/303 [01:10<00:00,  4.28it/s]\n",
      "100%|███████████████████████████████████████████████████████| 130/130 [00:25<00:00,  5.06it/s]\n"
     ]
    },
    {
     "name": "stdout",
     "output_type": "stream",
     "text": [
      "Epoch [52], Train Loss : [0.00016] Val Loss : [1.72572] Val Weighted F1 Score : [0.77924]\n",
      "Epoch 00052: reducing learning rate of group 0 to 1.8311e-08.\n"
     ]
    },
    {
     "name": "stderr",
     "output_type": "stream",
     "text": [
      "100%|███████████████████████████████████████████████████████| 303/303 [01:12<00:00,  4.20it/s]\n",
      "100%|███████████████████████████████████████████████████████| 130/130 [00:26<00:00,  4.98it/s]\n"
     ]
    },
    {
     "name": "stdout",
     "output_type": "stream",
     "text": [
      "Epoch [53], Train Loss : [0.00014] Val Loss : [1.73496] Val Weighted F1 Score : [0.77895]\n"
     ]
    },
    {
     "name": "stderr",
     "output_type": "stream",
     "text": [
      "100%|███████████████████████████████████████████████████████| 303/303 [01:11<00:00,  4.22it/s]\n",
      "100%|███████████████████████████████████████████████████████| 130/130 [00:26<00:00,  4.99it/s]\n"
     ]
    },
    {
     "name": "stdout",
     "output_type": "stream",
     "text": [
      "Epoch [54], Train Loss : [0.00016] Val Loss : [1.71934] Val Weighted F1 Score : [0.77826]\n"
     ]
    },
    {
     "name": "stderr",
     "output_type": "stream",
     "text": [
      "100%|███████████████████████████████████████████████████████| 303/303 [01:12<00:00,  4.20it/s]\n",
      "100%|███████████████████████████████████████████████████████| 130/130 [00:24<00:00,  5.34it/s]\n"
     ]
    },
    {
     "name": "stdout",
     "output_type": "stream",
     "text": [
      "Epoch [55], Train Loss : [0.00012] Val Loss : [1.73494] Val Weighted F1 Score : [0.77930]\n"
     ]
    },
    {
     "name": "stderr",
     "output_type": "stream",
     "text": [
      "100%|███████████████████████████████████████████████████████| 303/303 [01:11<00:00,  4.26it/s]\n",
      "100%|███████████████████████████████████████████████████████| 130/130 [00:26<00:00,  4.96it/s]\n"
     ]
    },
    {
     "name": "stdout",
     "output_type": "stream",
     "text": [
      "Epoch [56], Train Loss : [0.00012] Val Loss : [1.72735] Val Weighted F1 Score : [0.78009]\n"
     ]
    },
    {
     "name": "stderr",
     "output_type": "stream",
     "text": [
      "100%|███████████████████████████████████████████████████████| 303/303 [01:11<00:00,  4.25it/s]\n",
      "100%|███████████████████████████████████████████████████████| 130/130 [00:25<00:00,  5.03it/s]\n"
     ]
    },
    {
     "name": "stdout",
     "output_type": "stream",
     "text": [
      "Epoch [57], Train Loss : [0.00016] Val Loss : [1.72902] Val Weighted F1 Score : [0.78009]\n"
     ]
    },
    {
     "name": "stderr",
     "output_type": "stream",
     "text": [
      "100%|███████████████████████████████████████████████████████| 303/303 [01:11<00:00,  4.21it/s]\n",
      "100%|███████████████████████████████████████████████████████| 130/130 [00:25<00:00,  5.08it/s]\n"
     ]
    },
    {
     "name": "stdout",
     "output_type": "stream",
     "text": [
      "Epoch [58], Train Loss : [0.00016] Val Loss : [1.73665] Val Weighted F1 Score : [0.77909]\n"
     ]
    },
    {
     "name": "stderr",
     "output_type": "stream",
     "text": [
      "100%|███████████████████████████████████████████████████████| 303/303 [01:11<00:00,  4.22it/s]\n",
      "100%|███████████████████████████████████████████████████████| 130/130 [00:26<00:00,  4.99it/s]\n"
     ]
    },
    {
     "name": "stdout",
     "output_type": "stream",
     "text": [
      "Epoch [59], Train Loss : [0.00016] Val Loss : [1.72730] Val Weighted F1 Score : [0.77746]\n"
     ]
    },
    {
     "name": "stderr",
     "output_type": "stream",
     "text": [
      "100%|███████████████████████████████████████████████████████| 303/303 [01:11<00:00,  4.26it/s]\n",
      "100%|███████████████████████████████████████████████████████| 130/130 [00:24<00:00,  5.21it/s]\n"
     ]
    },
    {
     "name": "stdout",
     "output_type": "stream",
     "text": [
      "Epoch [60], Train Loss : [0.00014] Val Loss : [1.72541] Val Weighted F1 Score : [0.78003]\n"
     ]
    },
    {
     "name": "stderr",
     "output_type": "stream",
     "text": [
      "100%|███████████████████████████████████████████████████████| 303/303 [01:10<00:00,  4.31it/s]\n",
      "100%|███████████████████████████████████████████████████████| 130/130 [00:25<00:00,  5.01it/s]\n"
     ]
    },
    {
     "name": "stdout",
     "output_type": "stream",
     "text": [
      "Epoch [61], Train Loss : [0.00012] Val Loss : [1.72090] Val Weighted F1 Score : [0.77917]\n"
     ]
    },
    {
     "name": "stderr",
     "output_type": "stream",
     "text": [
      "100%|███████████████████████████████████████████████████████| 303/303 [01:11<00:00,  4.22it/s]\n",
      "100%|███████████████████████████████████████████████████████| 130/130 [00:25<00:00,  5.05it/s]\n"
     ]
    },
    {
     "name": "stdout",
     "output_type": "stream",
     "text": [
      "Epoch [62], Train Loss : [0.00019] Val Loss : [1.73089] Val Weighted F1 Score : [0.78034]\n"
     ]
    },
    {
     "name": "stderr",
     "output_type": "stream",
     "text": [
      "100%|███████████████████████████████████████████████████████| 303/303 [01:11<00:00,  4.24it/s]\n",
      "100%|███████████████████████████████████████████████████████| 130/130 [00:25<00:00,  5.10it/s]\n"
     ]
    },
    {
     "name": "stdout",
     "output_type": "stream",
     "text": [
      "Epoch [63], Train Loss : [0.00013] Val Loss : [1.72653] Val Weighted F1 Score : [0.77899]\n"
     ]
    },
    {
     "name": "stderr",
     "output_type": "stream",
     "text": [
      "100%|███████████████████████████████████████████████████████| 303/303 [01:11<00:00,  4.21it/s]\n",
      "100%|███████████████████████████████████████████████████████| 130/130 [00:24<00:00,  5.23it/s]\n"
     ]
    },
    {
     "name": "stdout",
     "output_type": "stream",
     "text": [
      "Epoch [64], Train Loss : [0.00016] Val Loss : [1.72257] Val Weighted F1 Score : [0.78024]\n"
     ]
    },
    {
     "name": "stderr",
     "output_type": "stream",
     "text": [
      "100%|███████████████████████████████████████████████████████| 303/303 [01:11<00:00,  4.23it/s]\n",
      "100%|███████████████████████████████████████████████████████| 130/130 [00:25<00:00,  5.16it/s]\n"
     ]
    },
    {
     "name": "stdout",
     "output_type": "stream",
     "text": [
      "Epoch [65], Train Loss : [0.00014] Val Loss : [1.73120] Val Weighted F1 Score : [0.77915]\n"
     ]
    },
    {
     "name": "stderr",
     "output_type": "stream",
     "text": [
      "100%|███████████████████████████████████████████████████████| 303/303 [01:11<00:00,  4.24it/s]\n",
      "100%|███████████████████████████████████████████████████████| 130/130 [00:26<00:00,  4.99it/s]\n"
     ]
    },
    {
     "name": "stdout",
     "output_type": "stream",
     "text": [
      "Epoch [66], Train Loss : [0.00045] Val Loss : [1.73666] Val Weighted F1 Score : [0.77805]\n"
     ]
    },
    {
     "name": "stderr",
     "output_type": "stream",
     "text": [
      "100%|███████████████████████████████████████████████████████| 303/303 [01:11<00:00,  4.26it/s]\n",
      "100%|███████████████████████████████████████████████████████| 130/130 [00:25<00:00,  5.18it/s]\n"
     ]
    },
    {
     "name": "stdout",
     "output_type": "stream",
     "text": [
      "Epoch [67], Train Loss : [0.00019] Val Loss : [1.73001] Val Weighted F1 Score : [0.77917]\n"
     ]
    },
    {
     "name": "stderr",
     "output_type": "stream",
     "text": [
      "100%|███████████████████████████████████████████████████████| 303/303 [01:11<00:00,  4.23it/s]\n",
      "100%|███████████████████████████████████████████████████████| 130/130 [00:25<00:00,  5.07it/s]\n"
     ]
    },
    {
     "name": "stdout",
     "output_type": "stream",
     "text": [
      "Epoch [68], Train Loss : [0.00015] Val Loss : [1.72831] Val Weighted F1 Score : [0.77912]\n"
     ]
    },
    {
     "name": "stderr",
     "output_type": "stream",
     "text": [
      "100%|███████████████████████████████████████████████████████| 303/303 [01:11<00:00,  4.24it/s]\n",
      "100%|███████████████████████████████████████████████████████| 130/130 [00:25<00:00,  5.02it/s]\n"
     ]
    },
    {
     "name": "stdout",
     "output_type": "stream",
     "text": [
      "Epoch [69], Train Loss : [0.00050] Val Loss : [1.72549] Val Weighted F1 Score : [0.77732]\n"
     ]
    },
    {
     "name": "stderr",
     "output_type": "stream",
     "text": [
      "100%|███████████████████████████████████████████████████████| 303/303 [01:11<00:00,  4.26it/s]\n",
      "100%|███████████████████████████████████████████████████████| 130/130 [00:25<00:00,  5.07it/s]\n"
     ]
    },
    {
     "name": "stdout",
     "output_type": "stream",
     "text": [
      "Epoch [70], Train Loss : [0.00015] Val Loss : [1.72514] Val Weighted F1 Score : [0.77930]\n"
     ]
    },
    {
     "name": "stderr",
     "output_type": "stream",
     "text": [
      "100%|███████████████████████████████████████████████████████| 303/303 [01:11<00:00,  4.21it/s]\n",
      "100%|███████████████████████████████████████████████████████| 130/130 [00:24<00:00,  5.22it/s]\n"
     ]
    },
    {
     "name": "stdout",
     "output_type": "stream",
     "text": [
      "Epoch [71], Train Loss : [0.00020] Val Loss : [1.72334] Val Weighted F1 Score : [0.78024]\n"
     ]
    },
    {
     "name": "stderr",
     "output_type": "stream",
     "text": [
      "100%|███████████████████████████████████████████████████████| 303/303 [01:10<00:00,  4.28it/s]\n",
      "100%|███████████████████████████████████████████████████████| 130/130 [00:25<00:00,  5.13it/s]\n"
     ]
    },
    {
     "name": "stdout",
     "output_type": "stream",
     "text": [
      "Epoch [72], Train Loss : [0.00016] Val Loss : [1.72838] Val Weighted F1 Score : [0.77735]\n"
     ]
    },
    {
     "name": "stderr",
     "output_type": "stream",
     "text": [
      "100%|███████████████████████████████████████████████████████| 303/303 [01:11<00:00,  4.27it/s]\n",
      "100%|███████████████████████████████████████████████████████| 130/130 [00:25<00:00,  5.14it/s]\n"
     ]
    },
    {
     "name": "stdout",
     "output_type": "stream",
     "text": [
      "Epoch [73], Train Loss : [0.00016] Val Loss : [1.72579] Val Weighted F1 Score : [0.78013]\n"
     ]
    },
    {
     "name": "stderr",
     "output_type": "stream",
     "text": [
      "100%|███████████████████████████████████████████████████████| 303/303 [01:10<00:00,  4.32it/s]\n",
      "100%|███████████████████████████████████████████████████████| 130/130 [00:25<00:00,  5.16it/s]\n"
     ]
    },
    {
     "name": "stdout",
     "output_type": "stream",
     "text": [
      "Epoch [74], Train Loss : [0.00011] Val Loss : [1.73037] Val Weighted F1 Score : [0.77909]\n"
     ]
    },
    {
     "name": "stderr",
     "output_type": "stream",
     "text": [
      "100%|███████████████████████████████████████████████████████| 303/303 [01:10<00:00,  4.28it/s]\n",
      "100%|███████████████████████████████████████████████████████| 130/130 [00:24<00:00,  5.20it/s]\n"
     ]
    },
    {
     "name": "stdout",
     "output_type": "stream",
     "text": [
      "Epoch [75], Train Loss : [0.00014] Val Loss : [1.73459] Val Weighted F1 Score : [0.77805]\n"
     ]
    },
    {
     "name": "stderr",
     "output_type": "stream",
     "text": [
      "100%|███████████████████████████████████████████████████████| 303/303 [01:11<00:00,  4.23it/s]\n",
      "100%|███████████████████████████████████████████████████████| 130/130 [00:25<00:00,  5.07it/s]\n"
     ]
    },
    {
     "name": "stdout",
     "output_type": "stream",
     "text": [
      "Epoch [76], Train Loss : [0.00043] Val Loss : [1.73240] Val Weighted F1 Score : [0.77805]\n"
     ]
    },
    {
     "name": "stderr",
     "output_type": "stream",
     "text": [
      "100%|███████████████████████████████████████████████████████| 303/303 [01:11<00:00,  4.23it/s]\n",
      "100%|███████████████████████████████████████████████████████| 130/130 [00:25<00:00,  5.11it/s]\n"
     ]
    },
    {
     "name": "stdout",
     "output_type": "stream",
     "text": [
      "Epoch [77], Train Loss : [0.00017] Val Loss : [1.72323] Val Weighted F1 Score : [0.77732]\n"
     ]
    },
    {
     "name": "stderr",
     "output_type": "stream",
     "text": [
      "100%|███████████████████████████████████████████████████████| 303/303 [01:10<00:00,  4.28it/s]\n",
      "100%|███████████████████████████████████████████████████████| 130/130 [00:25<00:00,  5.05it/s]\n"
     ]
    },
    {
     "name": "stdout",
     "output_type": "stream",
     "text": [
      "Epoch [78], Train Loss : [0.00011] Val Loss : [1.72648] Val Weighted F1 Score : [0.77823]\n"
     ]
    },
    {
     "name": "stderr",
     "output_type": "stream",
     "text": [
      "100%|███████████████████████████████████████████████████████| 303/303 [01:12<00:00,  4.20it/s]\n",
      "100%|███████████████████████████████████████████████████████| 130/130 [00:25<00:00,  5.16it/s]\n"
     ]
    },
    {
     "name": "stdout",
     "output_type": "stream",
     "text": [
      "Epoch [79], Train Loss : [0.00011] Val Loss : [1.73010] Val Weighted F1 Score : [0.77895]\n"
     ]
    },
    {
     "name": "stderr",
     "output_type": "stream",
     "text": [
      "100%|███████████████████████████████████████████████████████| 303/303 [01:10<00:00,  4.28it/s]\n",
      "100%|███████████████████████████████████████████████████████| 130/130 [00:25<00:00,  5.08it/s]\n"
     ]
    },
    {
     "name": "stdout",
     "output_type": "stream",
     "text": [
      "Epoch [80], Train Loss : [0.00010] Val Loss : [1.73046] Val Weighted F1 Score : [0.77909]\n"
     ]
    },
    {
     "name": "stderr",
     "output_type": "stream",
     "text": [
      "100%|███████████████████████████████████████████████████████| 303/303 [01:10<00:00,  4.27it/s]\n",
      "100%|███████████████████████████████████████████████████████| 130/130 [00:25<00:00,  5.08it/s]\n"
     ]
    },
    {
     "name": "stdout",
     "output_type": "stream",
     "text": [
      "Epoch [81], Train Loss : [0.00031] Val Loss : [1.73266] Val Weighted F1 Score : [0.77930]\n"
     ]
    },
    {
     "name": "stderr",
     "output_type": "stream",
     "text": [
      "100%|███████████████████████████████████████████████████████| 303/303 [01:11<00:00,  4.25it/s]\n",
      "100%|███████████████████████████████████████████████████████| 130/130 [00:25<00:00,  5.15it/s]\n"
     ]
    },
    {
     "name": "stdout",
     "output_type": "stream",
     "text": [
      "Epoch [82], Train Loss : [0.00016] Val Loss : [1.73377] Val Weighted F1 Score : [0.77930]\n"
     ]
    },
    {
     "name": "stderr",
     "output_type": "stream",
     "text": [
      "100%|███████████████████████████████████████████████████████| 303/303 [01:11<00:00,  4.22it/s]\n",
      "100%|███████████████████████████████████████████████████████| 130/130 [00:25<00:00,  5.18it/s]\n"
     ]
    },
    {
     "name": "stdout",
     "output_type": "stream",
     "text": [
      "Epoch [83], Train Loss : [0.00014] Val Loss : [1.73554] Val Weighted F1 Score : [0.77930]\n"
     ]
    },
    {
     "name": "stderr",
     "output_type": "stream",
     "text": [
      "100%|███████████████████████████████████████████████████████| 303/303 [01:10<00:00,  4.33it/s]\n",
      "100%|███████████████████████████████████████████████████████| 130/130 [00:25<00:00,  5.12it/s]\n"
     ]
    },
    {
     "name": "stdout",
     "output_type": "stream",
     "text": [
      "Epoch [84], Train Loss : [0.00014] Val Loss : [1.72238] Val Weighted F1 Score : [0.77732]\n"
     ]
    },
    {
     "name": "stderr",
     "output_type": "stream",
     "text": [
      "100%|███████████████████████████████████████████████████████| 303/303 [01:11<00:00,  4.23it/s]\n",
      "100%|███████████████████████████████████████████████████████| 130/130 [00:25<00:00,  5.07it/s]\n"
     ]
    },
    {
     "name": "stdout",
     "output_type": "stream",
     "text": [
      "Epoch [85], Train Loss : [0.00014] Val Loss : [1.73287] Val Weighted F1 Score : [0.77909]\n"
     ]
    },
    {
     "name": "stderr",
     "output_type": "stream",
     "text": [
      "100%|███████████████████████████████████████████████████████| 303/303 [01:11<00:00,  4.23it/s]\n",
      "100%|███████████████████████████████████████████████████████| 130/130 [00:25<00:00,  5.10it/s]\n"
     ]
    },
    {
     "name": "stdout",
     "output_type": "stream",
     "text": [
      "Epoch [86], Train Loss : [0.00012] Val Loss : [1.72902] Val Weighted F1 Score : [0.78024]\n"
     ]
    },
    {
     "name": "stderr",
     "output_type": "stream",
     "text": [
      "100%|███████████████████████████████████████████████████████| 303/303 [01:11<00:00,  4.23it/s]\n",
      "100%|███████████████████████████████████████████████████████| 130/130 [00:24<00:00,  5.22it/s]\n"
     ]
    },
    {
     "name": "stdout",
     "output_type": "stream",
     "text": [
      "Epoch [87], Train Loss : [0.00014] Val Loss : [1.72083] Val Weighted F1 Score : [0.77930]\n"
     ]
    },
    {
     "name": "stderr",
     "output_type": "stream",
     "text": [
      "100%|███████████████████████████████████████████████████████| 303/303 [01:10<00:00,  4.27it/s]\n",
      "100%|███████████████████████████████████████████████████████| 130/130 [00:25<00:00,  5.14it/s]\n"
     ]
    },
    {
     "name": "stdout",
     "output_type": "stream",
     "text": [
      "Epoch [88], Train Loss : [0.00013] Val Loss : [1.71827] Val Weighted F1 Score : [0.78217]\n"
     ]
    },
    {
     "name": "stderr",
     "output_type": "stream",
     "text": [
      "100%|███████████████████████████████████████████████████████| 303/303 [01:11<00:00,  4.22it/s]\n",
      "100%|███████████████████████████████████████████████████████| 130/130 [00:25<00:00,  5.19it/s]\n"
     ]
    },
    {
     "name": "stdout",
     "output_type": "stream",
     "text": [
      "Epoch [89], Train Loss : [0.00012] Val Loss : [1.73009] Val Weighted F1 Score : [0.77930]\n"
     ]
    },
    {
     "name": "stderr",
     "output_type": "stream",
     "text": [
      "100%|███████████████████████████████████████████████████████| 303/303 [01:10<00:00,  4.30it/s]\n",
      "100%|███████████████████████████████████████████████████████| 130/130 [00:25<00:00,  5.09it/s]\n"
     ]
    },
    {
     "name": "stdout",
     "output_type": "stream",
     "text": [
      "Epoch [90], Train Loss : [0.00012] Val Loss : [1.72682] Val Weighted F1 Score : [0.78011]\n"
     ]
    },
    {
     "name": "stderr",
     "output_type": "stream",
     "text": [
      "100%|███████████████████████████████████████████████████████| 303/303 [01:11<00:00,  4.25it/s]\n",
      "100%|███████████████████████████████████████████████████████| 130/130 [00:25<00:00,  5.16it/s]\n"
     ]
    },
    {
     "name": "stdout",
     "output_type": "stream",
     "text": [
      "Epoch [91], Train Loss : [0.00017] Val Loss : [1.72445] Val Weighted F1 Score : [0.77826]\n"
     ]
    },
    {
     "name": "stderr",
     "output_type": "stream",
     "text": [
      "100%|███████████████████████████████████████████████████████| 303/303 [01:10<00:00,  4.29it/s]\n",
      "100%|███████████████████████████████████████████████████████| 130/130 [00:25<00:00,  5.01it/s]\n"
     ]
    },
    {
     "name": "stdout",
     "output_type": "stream",
     "text": [
      "Epoch [92], Train Loss : [0.00012] Val Loss : [1.73089] Val Weighted F1 Score : [0.77823]\n"
     ]
    },
    {
     "name": "stderr",
     "output_type": "stream",
     "text": [
      "100%|███████████████████████████████████████████████████████| 303/303 [01:10<00:00,  4.29it/s]\n",
      "100%|███████████████████████████████████████████████████████| 130/130 [00:26<00:00,  4.98it/s]\n"
     ]
    },
    {
     "name": "stdout",
     "output_type": "stream",
     "text": [
      "Epoch [93], Train Loss : [0.00018] Val Loss : [1.73198] Val Weighted F1 Score : [0.77826]\n"
     ]
    },
    {
     "name": "stderr",
     "output_type": "stream",
     "text": [
      "100%|███████████████████████████████████████████████████████| 303/303 [01:11<00:00,  4.23it/s]\n",
      "100%|███████████████████████████████████████████████████████| 130/130 [00:25<00:00,  5.04it/s]\n"
     ]
    },
    {
     "name": "stdout",
     "output_type": "stream",
     "text": [
      "Epoch [94], Train Loss : [0.00011] Val Loss : [1.72806] Val Weighted F1 Score : [0.77917]\n"
     ]
    },
    {
     "name": "stderr",
     "output_type": "stream",
     "text": [
      "100%|███████████████████████████████████████████████████████| 303/303 [01:11<00:00,  4.25it/s]\n",
      "100%|███████████████████████████████████████████████████████| 130/130 [00:25<00:00,  5.06it/s]\n"
     ]
    },
    {
     "name": "stdout",
     "output_type": "stream",
     "text": [
      "Epoch [95], Train Loss : [0.00011] Val Loss : [1.72839] Val Weighted F1 Score : [0.77805]\n"
     ]
    },
    {
     "name": "stderr",
     "output_type": "stream",
     "text": [
      "100%|███████████████████████████████████████████████████████| 303/303 [01:10<00:00,  4.31it/s]\n",
      "100%|███████████████████████████████████████████████████████| 130/130 [00:26<00:00,  4.98it/s]\n"
     ]
    },
    {
     "name": "stdout",
     "output_type": "stream",
     "text": [
      "Epoch [96], Train Loss : [0.00016] Val Loss : [1.72052] Val Weighted F1 Score : [0.78012]\n"
     ]
    },
    {
     "name": "stderr",
     "output_type": "stream",
     "text": [
      "100%|███████████████████████████████████████████████████████| 303/303 [01:10<00:00,  4.31it/s]\n",
      "100%|███████████████████████████████████████████████████████| 130/130 [00:25<00:00,  5.13it/s]\n"
     ]
    },
    {
     "name": "stdout",
     "output_type": "stream",
     "text": [
      "Epoch [97], Train Loss : [0.00012] Val Loss : [1.72991] Val Weighted F1 Score : [0.78012]\n"
     ]
    },
    {
     "name": "stderr",
     "output_type": "stream",
     "text": [
      "100%|███████████████████████████████████████████████████████| 303/303 [01:11<00:00,  4.22it/s]\n",
      "100%|███████████████████████████████████████████████████████| 130/130 [00:25<00:00,  5.14it/s]\n"
     ]
    },
    {
     "name": "stdout",
     "output_type": "stream",
     "text": [
      "Epoch [98], Train Loss : [0.00012] Val Loss : [1.73285] Val Weighted F1 Score : [0.77805]\n"
     ]
    },
    {
     "name": "stderr",
     "output_type": "stream",
     "text": [
      "100%|███████████████████████████████████████████████████████| 303/303 [01:11<00:00,  4.23it/s]\n",
      "100%|███████████████████████████████████████████████████████| 130/130 [00:25<00:00,  5.05it/s]\n"
     ]
    },
    {
     "name": "stdout",
     "output_type": "stream",
     "text": [
      "Epoch [99], Train Loss : [0.00012] Val Loss : [1.73001] Val Weighted F1 Score : [0.78034]\n"
     ]
    },
    {
     "name": "stderr",
     "output_type": "stream",
     "text": [
      "100%|███████████████████████████████████████████████████████| 303/303 [01:10<00:00,  4.28it/s]\n",
      "100%|███████████████████████████████████████████████████████| 130/130 [00:25<00:00,  5.19it/s]"
     ]
    },
    {
     "name": "stdout",
     "output_type": "stream",
     "text": [
      "Epoch [100], Train Loss : [0.00013] Val Loss : [1.72350] Val Weighted F1 Score : [0.77826]\n"
     ]
    },
    {
     "name": "stderr",
     "output_type": "stream",
     "text": [
      "\n"
     ]
    }
   ],
   "source": [
    "model = BaseModel()\n",
    "model.eval()\n",
    "optimizer = torch.optim.Adam(params = model.parameters(), lr = CFG[\"LEARNING_RATE\"])\n",
    "scheduler = torch.optim.lr_scheduler.ReduceLROnPlateau(optimizer, mode='max', factor=0.5, patience=2, threshold_mode='abs', min_lr=1e-8, verbose=True)\n",
    "\n",
    "infer_model = train(model, optimizer, train_loader, val_loader, scheduler, device)"
   ]
  },
  {
   "cell_type": "code",
   "execution_count": 16,
   "id": "ce78e7f6-af80-4db7-8c59-61f2fa543a67",
   "metadata": {
    "tags": []
   },
   "outputs": [],
   "source": [
    "test = pd.read_csv('../data/PlasterDefects/test.csv')"
   ]
  },
  {
   "cell_type": "code",
   "execution_count": 17,
   "id": "6442bd45-a7ff-4587-a59c-8124f44d376f",
   "metadata": {
    "tags": []
   },
   "outputs": [],
   "source": [
    "test_dataset = CustomDataset(test['img_path'].values, None, test_transform)\n",
    "test_loader = DataLoader(test_dataset, batch_size=CFG['BATCH_SIZE'], shuffle=False, num_workers=0)"
   ]
  },
  {
   "cell_type": "code",
   "execution_count": 18,
   "id": "0aef5ba2-ee55-4898-b64d-443ccf83eb49",
   "metadata": {
    "tags": []
   },
   "outputs": [],
   "source": [
    "def inference(model, test_loader, device):\n",
    "    model.eval()\n",
    "    preds = []\n",
    "    with torch.no_grad():\n",
    "        for imgs in tqdm(iter(test_loader)):\n",
    "            imgs = imgs.float().to(device)\n",
    "            \n",
    "            pred = model(imgs)\n",
    "            \n",
    "            preds += pred.argmax(1).detach().cpu().numpy().tolist()\n",
    "    \n",
    "    preds = le.inverse_transform(preds)\n",
    "    return preds"
   ]
  },
  {
   "cell_type": "code",
   "execution_count": 19,
   "id": "8fd0721d-a398-4df8-b2ef-17c2a1af5089",
   "metadata": {
    "tags": []
   },
   "outputs": [
    {
     "name": "stderr",
     "output_type": "stream",
     "text": [
      "100%|█████████████████████████████████████████████████████████| 99/99 [00:15<00:00,  6.33it/s]\n"
     ]
    }
   ],
   "source": [
    "preds = inference(infer_model, test_loader, device)"
   ]
  },
  {
   "cell_type": "code",
   "execution_count": 20,
   "id": "898eecee-7385-4dc3-acd5-84269f65a5ee",
   "metadata": {
    "tags": []
   },
   "outputs": [],
   "source": [
    "submit = pd.read_csv('../data/PlasterDefects/sample_submission.csv')"
   ]
  },
  {
   "cell_type": "code",
   "execution_count": 21,
   "id": "ca5f45ed-9de7-4d66-bf52-b62c1fc6003c",
   "metadata": {
    "tags": []
   },
   "outputs": [],
   "source": [
    "submit['label'] = preds"
   ]
  },
  {
   "cell_type": "code",
   "execution_count": 22,
   "id": "b05bf928-36d8-4b45-aba0-28f1384a2fb0",
   "metadata": {
    "tags": []
   },
   "outputs": [],
   "source": [
    "submit.loc[submit['label'] == '0', 'label'] = '가구수정'\n",
    "submit.loc[submit['label'] == '1', 'label'] = '걸레받이수정'\n",
    "submit.loc[submit['label'] == '2', 'label'] = '곰팡이'\n",
    "submit.loc[submit['label'] == '3', 'label'] = '꼬임'\n",
    "submit.loc[submit['label'] == '4', 'label'] = '녹오염'\n",
    "submit.loc[submit['label'] == '5', 'label'] = '들뜸'\n",
    "submit.loc[submit['label'] == '6', 'label'] = '면불량'\n",
    "submit.loc[submit['label'] == '7', 'label'] = '몰딩수정'\n",
    "submit.loc[submit['label'] == '8', 'label'] = '반점'\n",
    "submit.loc[submit['label'] == '9', 'label'] = '석고수정'\n",
    "submit.loc[submit['label'] == '10', 'label'] = '오염'\n",
    "submit.loc[submit['label'] == '11', 'label'] = '오타공'\n",
    "submit.loc[submit['label'] == '12', 'label'] = '울음'\n",
    "submit.loc[submit['label'] == '13', 'label'] = '이음부불량'\n",
    "submit.loc[submit['label'] == '14', 'label'] = '창틀,문틀수정'\n",
    "submit.loc[submit['label'] == '15', 'label'] = '터짐'\n",
    "submit.loc[submit['label'] == '16', 'label'] = '틈새과다'\n",
    "submit.loc[submit['label'] == '17', 'label'] = '피스'\n",
    "submit.loc[submit['label'] == '18', 'label'] = '훼손'"
   ]
  },
  {
   "cell_type": "code",
   "execution_count": 23,
   "id": "34b4d009-cb5d-46c5-a0d0-a5942edec557",
   "metadata": {
    "tags": []
   },
   "outputs": [],
   "source": [
    "submit.to_csv('submission04.csv', index=False)"
   ]
  }
 ],
 "metadata": {
  "kernelspec": {
   "display_name": "Python 3 (ipykernel)",
   "language": "python",
   "name": "python3"
  },
  "language_info": {
   "codemirror_mode": {
    "name": "ipython",
    "version": 3
   },
   "file_extension": ".py",
   "mimetype": "text/x-python",
   "name": "python",
   "nbconvert_exporter": "python",
   "pygments_lexer": "ipython3",
   "version": "3.10.6"
  }
 },
 "nbformat": 4,
 "nbformat_minor": 5
}
